{
 "cells": [
  {
   "cell_type": "code",
   "execution_count": 1,
   "id": "cfdb5ed9",
   "metadata": {},
   "outputs": [],
   "source": [
    "import os\n",
    "import shutil as sh"
   ]
  },
  {
   "cell_type": "code",
   "execution_count": 2,
   "id": "a594d220",
   "metadata": {},
   "outputs": [],
   "source": [
    "os.chdir(\"../assets/processed_files\")"
   ]
  },
  {
   "cell_type": "code",
   "execution_count": 3,
   "id": "8a060d14",
   "metadata": {},
   "outputs": [
    {
     "data": {
      "text/plain": [
       "['remade_landscape_scaledup_decimated_10X_2021_4_14.glb',\n",
       " 'test_plane_3.mtl',\n",
       " 'shrine_emission_teleport_stairs.glb',\n",
       " 'cross_placement_landscape_nonvisible.glb',\n",
       " 'portal_multi.glb',\n",
       " 'cross.glb',\n",
       " 'shrine_table.glb',\n",
       " 'death_points_n33_w113.json',\n",
       " 'visible_landscape_model.glb',\n",
       " 'elements.json',\n",
       " 'test_plane_6.mtl',\n",
       " 'test_plane_2.mtl',\n",
       " 'boulders_2020_23_3.glb',\n",
       " 'test_plane_1.mtl',\n",
       " 'nav_mesh.glb',\n",
       " 'test_plane_6.obj',\n",
       " 'test_plane_5.obj',\n",
       " 'statics.glb',\n",
       " 'test_plane_3.obj',\n",
       " 'boulders.glb',\n",
       " 'test7.obj',\n",
       " 'test_collision_box5.glb',\n",
       " 'shrine_with_emission_for_teleport.glb',\n",
       " 'test_plane_2.obj',\n",
       " 'sky.png',\n",
       " 'test_collision_box2.glb',\n",
       " 'test_plane_4.obj',\n",
       " 'test_plane_1.obj',\n",
       " 'landscape_large.glb',\n",
       " 'nav_mesh_test.glb',\n",
       " 'scaled_up_backface_culling_noshadow.glb',\n",
       " 'test_collision_box3.glb',\n",
       " 'shrine_for_teleport.glb',\n",
       " 'shrine.glb',\n",
       " 'saghuaro.glb',\n",
       " 'cross_2020_23_3.glb',\n",
       " 'portal_flat.glb',\n",
       " 'shrine_emission_minus_stairs.glb',\n",
       " 'test_UV_rotate_mixed_image_and_vert_color.glb',\n",
       " 'portal.glb',\n",
       " 'landscape_full.obj',\n",
       " 'test7.mtl',\n",
       " 'test_plane_5.mtl',\n",
       " 'intersectable_landscape_model.glb',\n",
       " 'emission_landscape.mtl',\n",
       " 'portal.blend',\n",
       " 'landscape_decimated_2021_4_14.glb',\n",
       " 'emission_landscape.glb',\n",
       " 'test_plane_4.mtl',\n",
       " 'landscape.glb',\n",
       " 'emission_landscape.obj',\n",
       " 'test_collision_box.glb',\n",
       " 'test_collision_box4.glb',\n",
       " 'shrine_2020_23_3.glb',\n",
       " 'demo_mesh.glb',\n",
       " 'remade_landscape_scaledup_2021_4_14.glb',\n",
       " 'test_UV_rotate..glb']"
      ]
     },
     "execution_count": 3,
     "metadata": {},
     "output_type": "execute_result"
    }
   ],
   "source": [
    "os.listdir()"
   ]
  },
  {
   "cell_type": "code",
   "execution_count": 5,
   "id": "72fa8c93",
   "metadata": {},
   "outputs": [],
   "source": [
    "src = \"\"\n",
    "with open(\"../../src/index.html\",\"r\") as phile:\n",
    "    src+= phile.read()\n",
    "    \n",
    "with open(\"../../src/index.js\",\"r\") as phile:\n",
    "    src += phile.read()"
   ]
  },
  {
   "cell_type": "code",
   "execution_count": 7,
   "id": "dff1a6a7",
   "metadata": {},
   "outputs": [
    {
     "name": "stdout",
     "output_type": "stream",
     "text": [
      "remade_landscape_scaledup_decimated_10X_2021_4_14.glb\n",
      "test_plane_3.mtl\n",
      "portal_multi.glb\n",
      "elements.json\n",
      "test_plane_6.mtl\n",
      "test_plane_2.mtl\n",
      "boulders_2020_23_3.glb\n",
      "test_plane_1.mtl\n",
      "nav_mesh.glb\n",
      "test_plane_6.obj\n",
      "test_plane_5.obj\n",
      "statics.glb\n",
      "test_plane_3.obj\n",
      "boulders.glb\n",
      "test7.obj\n",
      "test_collision_box5.glb\n",
      "shrine_with_emission_for_teleport.glb\n",
      "test_plane_2.obj\n",
      "sky.png\n",
      "test_collision_box2.glb\n",
      "test_plane_4.obj\n",
      "test_plane_1.obj\n",
      "landscape_large.glb\n",
      "nav_mesh_test.glb\n",
      "scaled_up_backface_culling_noshadow.glb\n",
      "test_collision_box3.glb\n",
      "shrine_for_teleport.glb\n",
      "shrine.glb\n",
      "saghuaro.glb\n",
      "cross_2020_23_3.glb\n",
      "test_UV_rotate_mixed_image_and_vert_color.glb\n",
      "portal.glb\n",
      "landscape_full.obj\n",
      "test7.mtl\n",
      "test_plane_5.mtl\n",
      "emission_landscape.mtl\n",
      "portal.blend\n",
      "landscape_decimated_2021_4_14.glb\n",
      "emission_landscape.glb\n",
      "test_plane_4.mtl\n",
      "landscape.glb\n",
      "emission_landscape.obj\n",
      "test_collision_box.glb\n",
      "test_collision_box4.glb\n",
      "shrine_2020_23_3.glb\n",
      "demo_mesh.glb\n",
      "remade_landscape_scaledup_2021_4_14.glb\n",
      "test_UV_rotate..glb\n"
     ]
    }
   ],
   "source": [
    "for f in os.listdir():\n",
    "    if not f in src:\n",
    "        print(f)"
   ]
  },
  {
   "cell_type": "code",
   "execution_count": 8,
   "id": "ffd08d67",
   "metadata": {},
   "outputs": [],
   "source": [
    "os.mkdir(\"un_used_models\")"
   ]
  },
  {
   "cell_type": "code",
   "execution_count": 11,
   "id": "94c1c202",
   "metadata": {},
   "outputs": [],
   "source": [
    "for f in os.listdir():\n",
    "    if not f in src:\n",
    "        if os.path.isfile(f):\n",
    "            sh.copy(f,f\"un_used_models/{f}\")\n",
    "            os.remove(f)"
   ]
  },
  {
   "cell_type": "code",
   "execution_count": null,
   "id": "78583767",
   "metadata": {},
   "outputs": [],
   "source": []
  }
 ],
 "metadata": {
  "kernelspec": {
   "display_name": "Python 3",
   "language": "python",
   "name": "python3"
  },
  "language_info": {
   "codemirror_mode": {
    "name": "ipython",
    "version": 3
   },
   "file_extension": ".py",
   "mimetype": "text/x-python",
   "name": "python",
   "nbconvert_exporter": "python",
   "pygments_lexer": "ipython3",
   "version": "3.8.5"
  }
 },
 "nbformat": 4,
 "nbformat_minor": 5
}
