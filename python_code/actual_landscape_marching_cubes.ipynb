{
  "nbformat": 4,
  "nbformat_minor": 0,
  "metadata": {
    "kernelspec": {
      "name": "python3",
      "display_name": "Python 3",
      "language": "python"
    },
    "language_info": {
      "name": "python",
      "version": "3.7.10",
      "mimetype": "text/x-python",
      "codemirror_mode": {
        "name": "ipython",
        "version": 3
      },
      "pygments_lexer": "ipython3",
      "nbconvert_exporter": "python",
      "file_extension": ".py"
    },
    "colab": {
      "name": "actual_landscape_marching_cubes(5).ipynb",
      "provenance": [],
      "collapsed_sections": []
    }
  },
  "cells": [
    {
      "cell_type": "code",
      "metadata": {
        "id": "QUY2TFEb4CmL"
      },
      "source": [
        ""
      ],
      "execution_count": null,
      "outputs": []
    },
    {
      "cell_type": "markdown",
      "metadata": {
        "id": "2AnZI7SJjItC"
      },
      "source": [
        "\n",
        "# Marching Cubes\n",
        "\n",
        "Marching cubes is an algorithm to extract a 2D surface mesh from a 3D volume.\n",
        "This can be conceptualized as a 3D generalization of isolines on topographical\n",
        "or weather maps. It works by iterating across the volume, looking for regions\n",
        "which cross the level of interest. If such regions are found, triangulations\n",
        "are generated and added to an output mesh. The final result is a set of\n",
        "vertices and a set of triangular faces.\n",
        "\n",
        "The algorithm requires a data volume and an isosurface value. For example, in\n",
        "CT imaging Hounsfield units of +700 to +3000 represent bone. So, one potential\n",
        "input would be a reconstructed CT set of data and the value +700, to extract\n",
        "a mesh for regions of bone or bone-like density.\n",
        "\n",
        "This implementation also works correctly on anisotropic datasets, where the\n",
        "voxel spacing is not equal for every spatial dimension, through use of the\n",
        "`spacing` kwarg.\n"
      ]
    },
    {
      "cell_type": "code",
      "metadata": {
        "trusted": false,
        "colab": {
          "base_uri": "https://localhost:8080/"
        },
        "id": "VCRwgrzEjItI",
        "outputId": "31fa4833-f5a5-4564-bf99-1bf2050b89d0"
      },
      "source": [
        "pip install pymeshlab"
      ],
      "execution_count": 1,
      "outputs": [
        {
          "output_type": "stream",
          "text": [
            "Collecting pymeshlab\n",
            "\u001b[?25l  Downloading https://files.pythonhosted.org/packages/23/1c/ac62208d0c9248224edbceb818a7d60f800730eb3719ac62eb4c00432067/pymeshlab-0.2.1-cp37-cp37m-manylinux1_x86_64.whl (42.2MB)\n",
            "\u001b[K     |████████████████████████████████| 42.3MB 99kB/s \n",
            "\u001b[?25hRequirement already satisfied: numpy in /usr/local/lib/python3.7/dist-packages (from pymeshlab) (1.19.5)\n",
            "Installing collected packages: pymeshlab\n",
            "Successfully installed pymeshlab-0.2.1\n"
          ],
          "name": "stdout"
        }
      ]
    },
    {
      "cell_type": "code",
      "metadata": {
        "trusted": true,
        "colab": {
          "base_uri": "https://localhost:8080/"
        },
        "id": "pA1qCFjljItN",
        "outputId": "2edcb41a-f336-47a4-9b15-1ce4d790a8b2"
      },
      "source": [
        "pip install scikit-image"
      ],
      "execution_count": 2,
      "outputs": [
        {
          "output_type": "stream",
          "text": [
            "Requirement already satisfied: scikit-image in /usr/local/lib/python3.7/dist-packages (0.16.2)\n",
            "Requirement already satisfied: imageio>=2.3.0 in /usr/local/lib/python3.7/dist-packages (from scikit-image) (2.4.1)\n",
            "Requirement already satisfied: scipy>=0.19.0 in /usr/local/lib/python3.7/dist-packages (from scikit-image) (1.4.1)\n",
            "Requirement already satisfied: PyWavelets>=0.4.0 in /usr/local/lib/python3.7/dist-packages (from scikit-image) (1.1.1)\n",
            "Requirement already satisfied: networkx>=2.0 in /usr/local/lib/python3.7/dist-packages (from scikit-image) (2.5.1)\n",
            "Requirement already satisfied: matplotlib!=3.0.0,>=2.0.0 in /usr/local/lib/python3.7/dist-packages (from scikit-image) (3.2.2)\n",
            "Requirement already satisfied: pillow>=4.3.0 in /usr/local/lib/python3.7/dist-packages (from scikit-image) (7.1.2)\n",
            "Requirement already satisfied: numpy in /usr/local/lib/python3.7/dist-packages (from imageio>=2.3.0->scikit-image) (1.19.5)\n",
            "Requirement already satisfied: decorator<5,>=4.3 in /usr/local/lib/python3.7/dist-packages (from networkx>=2.0->scikit-image) (4.4.2)\n",
            "Requirement already satisfied: python-dateutil>=2.1 in /usr/local/lib/python3.7/dist-packages (from matplotlib!=3.0.0,>=2.0.0->scikit-image) (2.8.1)\n",
            "Requirement already satisfied: pyparsing!=2.0.4,!=2.1.2,!=2.1.6,>=2.0.1 in /usr/local/lib/python3.7/dist-packages (from matplotlib!=3.0.0,>=2.0.0->scikit-image) (2.4.7)\n",
            "Requirement already satisfied: cycler>=0.10 in /usr/local/lib/python3.7/dist-packages (from matplotlib!=3.0.0,>=2.0.0->scikit-image) (0.10.0)\n",
            "Requirement already satisfied: kiwisolver>=1.0.1 in /usr/local/lib/python3.7/dist-packages (from matplotlib!=3.0.0,>=2.0.0->scikit-image) (1.3.1)\n",
            "Requirement already satisfied: six>=1.5 in /usr/local/lib/python3.7/dist-packages (from python-dateutil>=2.1->matplotlib!=3.0.0,>=2.0.0->scikit-image) (1.15.0)\n"
          ],
          "name": "stdout"
        }
      ]
    },
    {
      "cell_type": "code",
      "metadata": {
        "trusted": true,
        "id": "LgPjpnotjItP"
      },
      "source": [
        "from tempfile import mkdtemp\n",
        "\n",
        "import os.path as path\n",
        "\n",
        "filename = path.join(mkdtemp(), 'newfile.dat')"
      ],
      "execution_count": 3,
      "outputs": []
    },
    {
      "cell_type": "code",
      "metadata": {
        "trusted": true,
        "id": "hWIpDOk9jItR"
      },
      "source": [
        "import requests as req\n",
        "\n",
        "res = req.get(\"https://prd-tnm.s3.amazonaws.com/StagedProducts/Elevation/13/TIFF/n33w113/USGS_13_n33w113.tif\")\n",
        "from PIL import Image\n",
        "\n",
        "from io import BytesIO \n",
        "\n",
        "imfil = BytesIO(res.content)\n",
        "res = \"\""
      ],
      "execution_count": 4,
      "outputs": []
    },
    {
      "cell_type": "code",
      "metadata": {
        "trusted": true,
        "scrolled": true,
        "colab": {
          "base_uri": "https://localhost:8080/"
        },
        "id": "s75gDfJrjItS",
        "outputId": "1a8e9995-a447-45d7-aa75-09ec6b03dec5"
      },
      "source": [
        "im = Image.open(imfil)\n",
        "imfil = \"\""
      ],
      "execution_count": 5,
      "outputs": [
        {
          "output_type": "stream",
          "text": [
            "/usr/local/lib/python3.7/dist-packages/PIL/Image.py:2800: DecompressionBombWarning: Image size (116899344 pixels) exceeds limit of 89478485 pixels, could be decompression bomb DOS attack.\n",
            "  DecompressionBombWarning,\n"
          ],
          "name": "stderr"
        }
      ]
    },
    {
      "cell_type": "code",
      "metadata": {
        "trusted": true,
        "colab": {
          "base_uri": "https://localhost:8080/"
        },
        "id": "EoeMVBlgjItT",
        "outputId": "32b30804-4138-4586-fcb7-6590b580f483"
      },
      "source": [
        "im.size"
      ],
      "execution_count": 6,
      "outputs": [
        {
          "output_type": "execute_result",
          "data": {
            "text/plain": [
              "(10812, 10812)"
            ]
          },
          "metadata": {
            "tags": []
          },
          "execution_count": 6
        }
      ]
    },
    {
      "cell_type": "code",
      "metadata": {
        "trusted": true,
        "id": "PeLdlBSxjItU"
      },
      "source": [
        "import numpy as np"
      ],
      "execution_count": 7,
      "outputs": []
    },
    {
      "cell_type": "code",
      "metadata": {
        "trusted": true,
        "id": "XG4AtnjVjItW"
      },
      "source": [
        "fp = np.memmap(filename, dtype='float32', mode='w+', shape=im.size)"
      ],
      "execution_count": 8,
      "outputs": []
    },
    {
      "cell_type": "code",
      "metadata": {
        "trusted": true,
        "id": "hcKpg7OojItX"
      },
      "source": [
        "fp[:] = np.array(im)"
      ],
      "execution_count": 9,
      "outputs": []
    },
    {
      "cell_type": "code",
      "metadata": {
        "trusted": true,
        "id": "2LHdrOorjItY"
      },
      "source": [
        "fp.flush()"
      ],
      "execution_count": 10,
      "outputs": []
    },
    {
      "cell_type": "code",
      "metadata": {
        "trusted": true,
        "id": "KLbrinYyjItZ"
      },
      "source": [
        "im = \"\""
      ],
      "execution_count": 11,
      "outputs": []
    },
    {
      "cell_type": "code",
      "metadata": {
        "trusted": true,
        "id": "_rV0irRJjIta"
      },
      "source": [
        "np.save(\"temp.npy\",fp)"
      ],
      "execution_count": 12,
      "outputs": []
    },
    {
      "cell_type": "code",
      "metadata": {
        "id": "5bQGiUxUlo6C"
      },
      "source": [
        "\n",
        "import numpy as np"
      ],
      "execution_count": 2,
      "outputs": []
    },
    {
      "cell_type": "code",
      "metadata": {
        "trusted": true,
        "id": "IRLENYP6jItb"
      },
      "source": [
        "from tempfile import mkdtemp\n",
        "\n",
        "import os.path as path\n",
        "\n",
        "filename = path.join(mkdtemp(), 'newfile.dat')"
      ],
      "execution_count": 3,
      "outputs": []
    },
    {
      "cell_type": "code",
      "metadata": {
        "trusted": true,
        "id": "ev3iDmAAjItb"
      },
      "source": [
        "im = np.load(\"temp.npy\")"
      ],
      "execution_count": 4,
      "outputs": []
    },
    {
      "cell_type": "code",
      "metadata": {
        "trusted": true,
        "id": "a0CwE4LEjItb"
      },
      "source": [
        "fp = np.memmap(filename, dtype='float32', mode='w+', shape=im.shape)"
      ],
      "execution_count": 5,
      "outputs": []
    },
    {
      "cell_type": "code",
      "metadata": {
        "trusted": true,
        "id": "BsuzqW25jItc"
      },
      "source": [
        "fp[:] = im"
      ],
      "execution_count": 6,
      "outputs": []
    },
    {
      "cell_type": "code",
      "metadata": {
        "trusted": true,
        "id": "JW9fM1r2jIte"
      },
      "source": [
        "del im"
      ],
      "execution_count": 7,
      "outputs": []
    },
    {
      "cell_type": "code",
      "metadata": {
        "trusted": true,
        "id": "8yducRYGjIte"
      },
      "source": [
        "# this will be the point collection for all the verts\n",
        "filename2 = path.join(mkdtemp(), 'newfile2.dat')"
      ],
      "execution_count": 8,
      "outputs": []
    },
    {
      "cell_type": "code",
      "metadata": {
        "trusted": true,
        "id": "KgpoQxZmjIte"
      },
      "source": [
        "fp[:] = fp/2"
      ],
      "execution_count": 9,
      "outputs": []
    },
    {
      "cell_type": "code",
      "metadata": {
        "trusted": true,
        "colab": {
          "base_uri": "https://localhost:8080/"
        },
        "id": "KDq_MR-SjIte",
        "outputId": "9e11640a-6aa5-4c80-feb7-687a11ef4cdd"
      },
      "source": [
        "fp.size"
      ],
      "execution_count": 10,
      "outputs": [
        {
          "output_type": "execute_result",
          "data": {
            "text/plain": [
              "116899344"
            ]
          },
          "metadata": {
            "tags": []
          },
          "execution_count": 10
        }
      ]
    },
    {
      "cell_type": "code",
      "metadata": {
        "trusted": true,
        "id": "6d15XhXOjItf"
      },
      "source": [
        "fp2 = np.memmap(filename2,dtype=\"float32\",mode=\"w+\",shape=(fp.size,3))"
      ],
      "execution_count": 11,
      "outputs": []
    },
    {
      "cell_type": "code",
      "metadata": {
        "trusted": true,
        "id": "rIpg3VM0jItf"
      },
      "source": [
        "fp2[:,2] = fp.flatten()"
      ],
      "execution_count": 12,
      "outputs": []
    },
    {
      "cell_type": "code",
      "metadata": {
        "trusted": true,
        "id": "zfVUKVtBjItg"
      },
      "source": [
        "## fill in the columns on the side \n",
        "\n",
        "chunks = 12\n",
        "count_in_chunk = fp.size//chunks\n",
        "for i in range(chunks):\n",
        "    low = count_in_chunk*i\n",
        "    high = count_in_chunk*(i+1)\n",
        "    xs = np.remainder(np.arange(low,high),fp.shape[0])\n",
        "    ys = np.floor_divide(np.arange(low,high),fp.shape[1])\n",
        "    fp2[low:high,0] = ys\n",
        "    fp2[low:high,1] = xs"
      ],
      "execution_count": 13,
      "outputs": []
    },
    {
      "cell_type": "code",
      "metadata": {
        "trusted": true,
        "id": "Asnyq1pTjIth"
      },
      "source": [
        "fp2.flush()"
      ],
      "execution_count": 15,
      "outputs": []
    },
    {
      "cell_type": "code",
      "metadata": {
        "colab": {
          "base_uri": "https://localhost:8080/"
        },
        "id": "5JTk1Xsdk3n-",
        "outputId": "48fe4b12-1cdf-4e84-dc28-e4fef6f680bf"
      },
      "source": [
        "\n",
        "fp2[:10,:]"
      ],
      "execution_count": 16,
      "outputs": [
        {
          "output_type": "execute_result",
          "data": {
            "text/plain": [
              "memmap([[  0.     ,   0.     , 110.83905],\n",
              "        [  0.     ,   1.     , 110.78907],\n",
              "        [  0.     ,   2.     , 110.7499 ],\n",
              "        [  0.     ,   3.     , 110.74183],\n",
              "        [  0.     ,   4.     , 110.7258 ],\n",
              "        [  0.     ,   5.     , 110.7009 ],\n",
              "        [  0.     ,   6.     , 110.69189],\n",
              "        [  0.     ,   7.     , 110.68074],\n",
              "        [  0.     ,   8.     , 110.66818],\n",
              "        [  0.     ,   9.     , 110.65174]], dtype=float32)"
            ]
          },
          "metadata": {
            "tags": []
          },
          "execution_count": 16
        }
      ]
    },
    {
      "cell_type": "code",
      "metadata": {
        "id": "yeByIzMtlGDi"
      },
      "source": [
        "import pymeshlab "
      ],
      "execution_count": 18,
      "outputs": []
    },
    {
      "cell_type": "code",
      "metadata": {
        "id": "0jSAKl0YlHn7"
      },
      "source": [
        ""
      ],
      "execution_count": 19,
      "outputs": []
    },
    {
      "cell_type": "code",
      "metadata": {
        "id": "fHuG59x9ngLR"
      },
      "source": [
        "\n",
        "filename3 = path.join(mkdtemp(), 'newfile3.dat')"
      ],
      "execution_count": 20,
      "outputs": []
    },
    {
      "cell_type": "code",
      "metadata": {
        "id": "BFpT2oLnniVZ"
      },
      "source": [
        "#write into this, and we know thanks to point sampling that it will certainly be smaller than the number of rows\n",
        "fp3 = np.memmap(filename3,dtype=\"float32\",mode=\"w+\",shape=(fp.size,3))\n"
      ],
      "execution_count": 23,
      "outputs": []
    },
    {
      "cell_type": "code",
      "metadata": {
        "id": "JWWWOJ47n_B3"
      },
      "source": [
        "# zero things out so we can compare later\n",
        "fp3[:] = np.zeros((fp.size,3))"
      ],
      "execution_count": 24,
      "outputs": []
    },
    {
      "cell_type": "code",
      "metadata": {
        "colab": {
          "base_uri": "https://localhost:8080/"
        },
        "id": "H6AB1nCvnIE_",
        "outputId": "fb29fb3a-21e2-4ea2-91af-4f19fedb628c"
      },
      "source": [
        "chunks = 12\n",
        "count_in_chunk = fp.size//chunks\n",
        "assign_ind_start = 0\n",
        "for i in range(chunks):\n",
        "  print(\"starting\",i)\n",
        "  ms = pymeshlab.MeshSet()\n",
        "  low = count_in_chunk*i\n",
        "  high = count_in_chunk*(i+1)\n",
        "  mesh = pymeshlab.Mesh(fp2[low:high,:])\n",
        "  ms.add_mesh(mesh)\n",
        "  ms.point_cloud_simplification(samplenum= 100000)\n",
        "  sampled_verts = ms.current_mesh().vertex_matrix().astype(\"float32\")\n",
        "  fp3[assign_ind_start:assign_ind_start + sampled_verts.shape[0],:] = sampled_verts\n",
        "  assign_ind_start += sampled_verts.shape[0]\n",
        "  print(\"ending\",i)"
      ],
      "execution_count": 27,
      "outputs": [
        {
          "output_type": "stream",
          "text": [
            "starting 0\n",
            "ending 0\n",
            "starting 1\n",
            "ending 1\n",
            "starting 2\n",
            "ending 2\n",
            "starting 3\n",
            "ending 3\n",
            "starting 4\n",
            "ending 4\n",
            "starting 5\n",
            "ending 5\n",
            "starting 6\n",
            "ending 6\n",
            "starting 7\n",
            "ending 7\n",
            "starting 8\n",
            "ending 8\n",
            "starting 9\n",
            "ending 9\n",
            "starting 10\n",
            "ending 10\n",
            "starting 11\n",
            "ending 11\n"
          ],
          "name": "stdout"
        }
      ]
    },
    {
      "cell_type": "code",
      "metadata": {
        "colab": {
          "base_uri": "https://localhost:8080/"
        },
        "id": "nTvpYdGTsLZF",
        "outputId": "87a71df7-3c80-410b-c583-b2eaf0a40981"
      },
      "source": [
        "np.where(fp3 > 0)[0].shape"
      ],
      "execution_count": 29,
      "outputs": [
        {
          "output_type": "execute_result",
          "data": {
            "text/plain": [
              "(4553843,)"
            ]
          },
          "metadata": {
            "tags": []
          },
          "execution_count": 29
        }
      ]
    },
    {
      "cell_type": "code",
      "metadata": {
        "id": "jAbX67cStxzj"
      },
      "source": [
        "4553843\n"
      ],
      "execution_count": null,
      "outputs": []
    },
    {
      "cell_type": "code",
      "metadata": {
        "id": "4bGyBDunsZeq"
      },
      "source": [
        "ms = pymeshlab.MeshSet()\n",
        "mesh = pymeshlab.Mesh(fp3)\n",
        "ms.add_mesh(mesh)"
      ],
      "execution_count": null,
      "outputs": []
    },
    {
      "cell_type": "code",
      "metadata": {
        "trusted": true,
        "id": "UtI7wnyqjIti"
      },
      "source": [
        "mesh = pymeshlab.Mesh(fp2)\n",
        "ms.add_mesh(mesh)"
      ],
      "execution_count": null,
      "outputs": []
    },
    {
      "cell_type": "code",
      "metadata": {
        "colab": {
          "base_uri": "https://localhost:8080/"
        },
        "id": "aVwtfyfGj1eG",
        "outputId": "38f911b2-c8f6-4de6-cfd4-d36a4e8dfb57"
      },
      "source": [
        "import os \n",
        "os.listdir(\"/tmp\")"
      ],
      "execution_count": 1,
      "outputs": [
        {
          "output_type": "execute_result",
          "data": {
            "text/plain": [
              "['tmp69ocgu7l',\n",
              " 'tmp3v1r6osw',\n",
              " 'dap_multiplexer.INFO',\n",
              " 'dap_multiplexer.65e5ad1548d0.root.log.INFO.20210524-224406.47',\n",
              " 'tmpqx_0i9ox',\n",
              " 'initgoogle_syslog_dir.0',\n",
              " 'tmpvyetybic',\n",
              " 'tmponrmg88w',\n",
              " 'tmpsop2y6z3',\n",
              " 'debugger_1mbmi251x6']"
            ]
          },
          "metadata": {
            "tags": []
          },
          "execution_count": 1
        }
      ]
    },
    {
      "cell_type": "code",
      "metadata": {
        "colab": {
          "base_uri": "https://localhost:8080/",
          "height": 167
        },
        "id": "ldi2RaD-sz2m",
        "outputId": "eaa04df7-a1c9-4654-cdd3-5b803292f599"
      },
      "source": [
        "filename34553843"
      ],
      "execution_count": 2,
      "outputs": [
        {
          "output_type": "error",
          "ename": "NameError",
          "evalue": "ignored",
          "traceback": [
            "\u001b[0;31m---------------------------------------------------------------------------\u001b[0m",
            "\u001b[0;31mNameError\u001b[0m                                 Traceback (most recent call last)",
            "\u001b[0;32m<ipython-input-2-85f56219b269>\u001b[0m in \u001b[0;36m<module>\u001b[0;34m()\u001b[0m\n\u001b[0;32m----> 1\u001b[0;31m \u001b[0mfilename3\u001b[0m\u001b[0;34m\u001b[0m\u001b[0;34m\u001b[0m\u001b[0m\n\u001b[0m",
            "\u001b[0;31mNameError\u001b[0m: name 'filename3' is not defined"
          ]
        }
      ]
    },
    {
      "cell_type": "code",
      "metadata": {
        "id": "3sKAKZVJs6iF"
      },
      "source": [
        "import glob"
      ],
      "execution_count": 3,
      "outputs": []
    },
    {
      "cell_type": "code",
      "metadata": {
        "colab": {
          "base_uri": "https://localhost:8080/"
        },
        "id": "LuJswjgxs_PF",
        "outputId": "b72ff829-b023-4e62-e329-fc5311d8b21e"
      },
      "source": [
        "glob.glob(\"/tmp/**/*.dat\")"
      ],
      "execution_count": 4,
      "outputs": [
        {
          "output_type": "execute_result",
          "data": {
            "text/plain": [
              "['/tmp/tmp69ocgu7l/newfile2.dat',\n",
              " '/tmp/tmp3v1r6osw/newfile.dat',\n",
              " '/tmp/tmpqx_0i9ox/newfile3.dat',\n",
              " '/tmp/tmpvyetybic/newfile.dat',\n",
              " '/tmp/tmponrmg88w/newfile2.dat',\n",
              " '/tmp/tmpsop2y6z3/newfile.dat']"
            ]
          },
          "metadata": {
            "tags": []
          },
          "execution_count": 4
        }
      ]
    },
    {
      "cell_type": "code",
      "metadata": {
        "id": "k3IgqxCItG0P"
      },
      "source": [
        "import numpy as np\n",
        "fp3 = np.memmap(\"/tmp/tmpqx_0i9ox/newfile3.dat\",dtype=\"float32\",shape=(116899344,3),mode=\"r+\")"
      ],
      "execution_count": 5,
      "outputs": []
    },
    {
      "cell_type": "code",
      "metadata": {
        "colab": {
          "base_uri": "https://localhost:8080/"
        },
        "id": "SH1KFdOS1Gs2",
        "outputId": "59f5a702-7028-4be2-ec33-4fa9a93f07ab"
      },
      "source": [
        "test = np.random.random((4,2))\n",
        "test"
      ],
      "execution_count": 14,
      "outputs": [
        {
          "output_type": "execute_result",
          "data": {
            "text/plain": [
              "array([[0.38579132, 0.02490234],\n",
              "       [0.21421561, 0.57601808],\n",
              "       [0.8953352 , 0.47020028],\n",
              "       [0.3951411 , 0.01151813]])"
            ]
          },
          "metadata": {
            "tags": []
          },
          "execution_count": 14
        }
      ]
    },
    {
      "cell_type": "code",
      "metadata": {
        "colab": {
          "base_uri": "https://localhost:8080/"
        },
        "id": "qcjeHtK31K8j",
        "outputId": "b99efb8f-4ee0-4ba2-94fa-61e7f5e78d01"
      },
      "source": [
        "print(test> .5)\n",
        "print(np.all(test>9,axis=1))"
      ],
      "execution_count": 20,
      "outputs": [
        {
          "output_type": "stream",
          "text": [
            "[[False False]\n",
            " [False  True]\n",
            " [ True False]\n",
            " [False False]]\n",
            "[False False False False]\n"
          ],
          "name": "stdout"
        }
      ]
    },
    {
      "cell_type": "code",
      "metadata": {
        "id": "z8dAZiHJ0ejZ"
      },
      "source": [
        "np.all(fp3> 0,axis=0)"
      ],
      "execution_count": null,
      "outputs": []
    },
    {
      "cell_type": "code",
      "metadata": {
        "id": "2yLgVJWN1ml6"
      },
      "source": [
        ""
      ],
      "execution_count": null,
      "outputs": []
    },
    {
      "cell_type": "code",
      "metadata": {
        "colab": {
          "base_uri": "https://localhost:8080/"
        },
        "id": "j8K7aEkKubxd",
        "outputId": "8194e5a7-b679-43bf-9c03-a9fb8077b504"
      },
      "source": [
        "(fp3[:1000,:] > 0).shape"
      ],
      "execution_count": 13,
      "outputs": [
        {
          "output_type": "execute_result",
          "data": {
            "text/plain": [
              "(1000, 3)"
            ]
          },
          "metadata": {
            "tags": []
          },
          "execution_count": 13
        }
      ]
    },
    {
      "cell_type": "code",
      "metadata": {
        "id": "BBTdlUC1tbCI"
      },
      "source": [
        "bool_mask = np.all(fp3 > 0,axis = 1)"
      ],
      "execution_count": 21,
      "outputs": []
    },
    {
      "cell_type": "code",
      "metadata": {
        "colab": {
          "base_uri": "https://localhost:8080/"
        },
        "id": "ryv1js7ztc0k",
        "outputId": "87f1c5de-b062-43a6-953f-269486cdc262"
      },
      "source": [
        "fp3.shape[0]/fp3[bool_mask].shape[0]"
      ],
      "execution_count": 23,
      "outputs": [
        {
          "output_type": "execute_result",
          "data": {
            "text/plain": [
              "77.06509169083343"
            ]
          },
          "metadata": {
            "tags": []
          },
          "execution_count": 23
        }
      ]
    },
    {
      "cell_type": "code",
      "metadata": {
        "id": "1B7H6vtpuSXw"
      },
      "source": [
        "recalculated_points = fp3[bool_mask]"
      ],
      "execution_count": 24,
      "outputs": []
    },
    {
      "cell_type": "code",
      "metadata": {
        "colab": {
          "base_uri": "https://localhost:8080/"
        },
        "id": "gNyEOn_63peg",
        "outputId": "3189565a-7eae-4983-82b6-466ca9377a92"
      },
      "source": [
        "recalculated_points.shape"
      ],
      "execution_count": 25,
      "outputs": [
        {
          "output_type": "execute_result",
          "data": {
            "text/plain": [
              "(1516891, 3)"
            ]
          },
          "metadata": {
            "tags": []
          },
          "execution_count": 25
        }
      ]
    },
    {
      "cell_type": "code",
      "metadata": {
        "id": "5vKGkQIh3s3K"
      },
      "source": [
        "import os\n",
        "from tempfile import mkdtemp\n",
        "recalc_fname = os.path.join(mkdtemp(),\"points.npy\")"
      ],
      "execution_count": 29,
      "outputs": []
    },
    {
      "cell_type": "code",
      "metadata": {
        "id": "9N25Xk183_9I"
      },
      "source": [
        "np.save(recalc_fname,recalculated_points)"
      ],
      "execution_count": 30,
      "outputs": []
    },
    {
      "cell_type": "code",
      "metadata": {
        "id": "R4TPnS054SWD"
      },
      "source": [
        "import pymeshlab\n",
        "ms = pymeshlab.MeshSet()\n",
        "mesh = pymeshlab.Mesh(recalculated_points)\n",
        "ms.add_mesh(mesh)"
      ],
      "execution_count": 32,
      "outputs": []
    },
    {
      "cell_type": "code",
      "metadata": {
        "id": "88ijHrRQ4aRr"
      },
      "source": [
        "ms.compute_normals_for_point_sets()"
      ],
      "execution_count": 33,
      "outputs": []
    },
    {
      "cell_type": "code",
      "metadata": {
        "id": "g5Lb0RQk5C2M"
      },
      "source": [
        "ms.surface_reconstruction_screened_poisson()"
      ],
      "execution_count": 34,
      "outputs": []
    },
    {
      "cell_type": "code",
      "metadata": {
        "id": "lmwYfbRV5UGY"
      },
      "source": [
        "ms.save_current_mesh(\"landscape_remeshed.ply\")"
      ],
      "execution_count": 35,
      "outputs": []
    },
    {
      "cell_type": "code",
      "metadata": {
        "id": "bJcKcVev5w0E"
      },
      "source": [
        "from google.colab import files"
      ],
      "execution_count": 36,
      "outputs": []
    },
    {
      "cell_type": "code",
      "metadata": {
        "colab": {
          "base_uri": "https://localhost:8080/",
          "height": 17
        },
        "id": "LaYaAS426BAT",
        "outputId": "b24aa6a9-fd49-4eaa-abce-65f2d03b6570"
      },
      "source": [
        "files.download(\"landscape_remeshed.ply\")"
      ],
      "execution_count": 37,
      "outputs": [
        {
          "output_type": "display_data",
          "data": {
            "application/javascript": [
              "\n",
              "    async function download(id, filename, size) {\n",
              "      if (!google.colab.kernel.accessAllowed) {\n",
              "        return;\n",
              "      }\n",
              "      const div = document.createElement('div');\n",
              "      const label = document.createElement('label');\n",
              "      label.textContent = `Downloading \"${filename}\": `;\n",
              "      div.appendChild(label);\n",
              "      const progress = document.createElement('progress');\n",
              "      progress.max = size;\n",
              "      div.appendChild(progress);\n",
              "      document.body.appendChild(div);\n",
              "\n",
              "      const buffers = [];\n",
              "      let downloaded = 0;\n",
              "\n",
              "      const channel = await google.colab.kernel.comms.open(id);\n",
              "      // Send a message to notify the kernel that we're ready.\n",
              "      channel.send({})\n",
              "\n",
              "      for await (const message of channel.messages) {\n",
              "        // Send a message to notify the kernel that we're ready.\n",
              "        channel.send({})\n",
              "        if (message.buffers) {\n",
              "          for (const buffer of message.buffers) {\n",
              "            buffers.push(buffer);\n",
              "            downloaded += buffer.byteLength;\n",
              "            progress.value = downloaded;\n",
              "          }\n",
              "        }\n",
              "      }\n",
              "      const blob = new Blob(buffers, {type: 'application/binary'});\n",
              "      const a = document.createElement('a');\n",
              "      a.href = window.URL.createObjectURL(blob);\n",
              "      a.download = filename;\n",
              "      div.appendChild(a);\n",
              "      a.click();\n",
              "      div.remove();\n",
              "    }\n",
              "  "
            ],
            "text/plain": [
              "<IPython.core.display.Javascript object>"
            ]
          },
          "metadata": {
            "tags": []
          }
        },
        {
          "output_type": "display_data",
          "data": {
            "application/javascript": [
              "download(\"download_4d022aa5-6f88-47a1-90fd-f709eaaed057\", \"landscape_remeshed.ply\", 4264463)"
            ],
            "text/plain": [
              "<IPython.core.display.Javascript object>"
            ]
          },
          "metadata": {
            "tags": []
          }
        }
      ]
    },
    {
      "cell_type": "code",
      "metadata": {
        "id": "Y23MRPy26CpR"
      },
      "source": [
        ""
      ],
      "execution_count": null,
      "outputs": []
    }
  ]
}